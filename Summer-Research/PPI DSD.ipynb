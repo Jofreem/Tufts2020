{
 "cells": [
  {
   "cell_type": "code",
   "execution_count": null,
   "metadata": {},
   "outputs": [],
   "source": [
    "import networkx as nx\n",
    "import pandas as pd\n",
    "import numpy as np\n",
    "from typing import Type\n",
    "import random\n",
    "from collections import defaultdict"
   ]
  },
  {
   "cell_type": "code",
   "execution_count": null,
   "metadata": {},
   "outputs": [],
   "source": [
    "# Imports the specific files used in this\n",
    "def importFiles() -> Type[pd.core.frame.DataFrame]:\n",
    "    \n",
    "    # Import the path file\n",
    "    physical = pd.read_csv(r\"C:\\Users\\jd_fr\\Desktop\\Summer Research 2020\\physical.csv\", names = [\"Gene1\", \"Gene2\"], sep = \" \")\n",
    "    \n",
    "    # Import the data file\n",
    "    col_names = [\"Gene\",\"Colors\"]\n",
    "    first = pd.read_csv(r\"C:\\Users\\jd_fr\\Desktop\\Summer Research 2020\\\\MIPSFirstLevel.csv\", names = col_names, sep = \"\\s{2,6}\")\n",
    "\n",
    "    return first,physical"
   ]
  },
  {
   "cell_type": "code",
   "execution_count": null,
   "metadata": {},
   "outputs": [],
   "source": [
    "# Creates a graph and populates it with the imported data\n",
    "def populateGraph(first, physical) -> Type[nx.classes.graph.Graph]:\n",
    "    G = nx.Graph()\n",
    "    \n",
    "    # Populate nodes from full file\n",
    "    for index,row in first.iterrows():\n",
    "        G.add_node(row.values[0], colors = row.values[1])\n",
    "        \n",
    "    # Adding edges from full file\n",
    "    for index,row in physical.iterrows():\n",
    "        G.add_edge(row.values[0],row.values[1])\n",
    "    \n",
    "    return G"
   ]
  },
  {
   "cell_type": "code",
   "execution_count": null,
   "metadata": {},
   "outputs": [],
   "source": [
    "# Returns a dictionary containing frequency information of the overall data set\n",
    "def getDataMode() -> dict:\n",
    "    col_names = [\"Gene\",\"Colors\"]\n",
    "    first = pd.read_csv(r\"C:\\Users\\jd_fr\\Desktop\\Summer Research 2020\\\\MIPSFirstLevel.csv\", names = col_names, sep = \"\\s{2,6}\")\n",
    "    mishapedList = freqOverall(first)\n",
    "    fixedList = convertColors(mishapedList)\n",
    "    return toFreq(fixedList)\n",
    "\n",
    "#Returns a list of overall frquencies for a list\n",
    "def freqOverall(first: list) -> list:\n",
    "    a = []\n",
    "    justVals = first.drop(\"Gene\", axis = 1)\n",
    "    for index,row in justVals.iterrows():\n",
    "        a.append(row.values[0])\n",
    "    return a\n",
    "\n",
    "#Converts a list of colors to a properly formatted list of colors\n",
    "def convertColors(colors: list) -> list:\n",
    "    fixedList = []\n",
    "    for color in colors:\n",
    "        fixedList.extend(color.split())\n",
    "    return fixedList\n",
    "\n",
    "# Converts a list to a dict of frequencies for provided list\n",
    "def toFreq(lst: list) -> dict:\n",
    "    freq = defaultdict(int)\n",
    "    for l in lst:\n",
    "        freq[l] += 1\n",
    "    return freq"
   ]
  },
  {
   "cell_type": "code",
   "execution_count": null,
   "metadata": {},
   "outputs": [],
   "source": [
    "#Finds the colors of a set of neighbors,\n",
    "def findColors(neigh, Graph: Type[networkx.classes.graph.Graph], atrs):\n",
    "    neighs = []\n",
    "    for gene in neigh:\n",
    "        try:\n",
    "            atribs = list(atrs[gene].split())\n",
    "        except KeyError:\n",
    "            continue\n",
    "        for color in atribs:\n",
    "            if(len(color) == 0 or '#' in color):\n",
    "                continue\n",
    "            neighs.extend(color.split())\n",
    "    return neighs"
   ]
  },
  {
   "cell_type": "code",
   "execution_count": null,
   "metadata": {},
   "outputs": [],
   "source": [
    "# Returns the mode of a list, in the event of a tie this will return the smallest number. \n",
    "def findMode(colors: list) -> int:\n",
    "    colors = [int(col) for col in colors]\n",
    "    return (max(set(colors),key=colors.count))"
   ]
  },
  {
   "cell_type": "code",
   "execution_count": null,
   "metadata": {},
   "outputs": [],
   "source": [
    "# Returns true if the specified guess is in the string-formatted list of atributes.\n",
    "def isCorrect(guess: int, atribs: str) -> bool: \n",
    "    fixedList = atribs.split()\n",
    "    if('#' in fixedList):\n",
    "        return False\n",
    "    intatribs = [int(i) for i in fixedList]\n",
    "    return (guess in intatribs)"
   ]
  },
  {
   "cell_type": "code",
   "execution_count": null,
   "metadata": {},
   "outputs": [],
   "source": [
    "#Runs an interation of testing given the starting Graph\n",
    "def run(G: Type[networkx.classes.graph.Graph]):\n",
    "    with open(\"DSD-src-0.50//RESULTS.txt\", \"r\") as a_file: \n",
    "        num, denom, var = 0,0,1\n",
    "        first = []\n",
    "        \n",
    "        atrs = nx.get_node_attributes(G, 'colors')\n",
    "        data_mode = getDataMode()\n",
    "    \n",
    "        for line in a_file: #Need to loop through partitioned set instead of full set. Which cwould switch the line data.\n",
    "            if(var == 1): #Stores the information from the first iteration (the gene names)\n",
    "                var += 1\n",
    "                first = line.strip().split()\n",
    "                continue\n",
    "            else:\n",
    "                var += 1\n",
    "                #Randomly partition here.\n",
    "                if(random.randint(0,1) == 1):\n",
    "                    continue\n",
    "                denom += 1\n",
    "                stripped_line = line.strip() \n",
    "                lineList = stripped_line.split() #Full line\n",
    "                numplist = np.array(lineList) #All of the stuff, 0 index has the name (now a numpy array)\n",
    "                geneName = lineList[0]\n",
    "                try:\n",
    "                    geneAtribs = atrs[geneName]\n",
    "                except KeyError: #The cases when the gene does not exist in the node set (so ignore them)\n",
    "                    denom -= 1\n",
    "                    continue\n",
    "            \n",
    "                minsIndx = numplist.argsort()[:5] #Index of minimum values\n",
    "            \n",
    "                idxList = list(minsIndx)\n",
    "                neighs = []\n",
    "                for i in idxList:\n",
    "                    if(i != 0):\n",
    "                        neighs.append(first[i-1])\n",
    "                neighColors = findColors(neighs, G, atrs)\n",
    "                if(len(neighColors) == 0):\n",
    "                    continue\n",
    "                guess = findMode(neighColors)\n",
    "                correct = isCorrect(guess, atrs[lineList[0]])\n",
    "                if(correct):\n",
    "                    num += 1\n",
    "\n",
    "        return num/denom"
   ]
  },
  {
   "cell_type": "code",
   "execution_count": null,
   "metadata": {},
   "outputs": [],
   "source": [
    "# Iterates through 10 cycles of the DSD algoritm with the provided data.\n",
    "def main():\n",
    "    ans = []\n",
    "    first, physical = importFiles()\n",
    "    G = populateGraph(first, physical)\n",
    "    for i in range(10):\n",
    "        ans.append(run(G))\n",
    "    getStats(ans)"
   ]
  },
  {
   "cell_type": "code",
   "execution_count": null,
   "metadata": {},
   "outputs": [],
   "source": [
    "#Takes a list of averages and prints out the mean and STDev\n",
    "def getStats(overall: list):\n",
    "    mean = sum(overall)/len(overall)\n",
    "    var = sum([((x-mean)**2) for x in overall]) / len(overall)\n",
    "    stdev = var**.5\n",
    "    print('Mean: {}'.format(mean))\n",
    "    print('StDev: {}'.format(stdev))"
   ]
  },
  {
   "cell_type": "code",
   "execution_count": null,
   "metadata": {},
   "outputs": [],
   "source": [
    "main()"
   ]
  }
 ],
 "metadata": {
  "kernelspec": {
   "display_name": "Python 3",
   "language": "python",
   "name": "python3"
  },
  "language_info": {
   "codemirror_mode": {
    "name": "ipython",
    "version": 3
   },
   "file_extension": ".py",
   "mimetype": "text/x-python",
   "name": "python",
   "nbconvert_exporter": "python",
   "pygments_lexer": "ipython3",
   "version": "3.7.1"
  }
 },
 "nbformat": 4,
 "nbformat_minor": 2
}
