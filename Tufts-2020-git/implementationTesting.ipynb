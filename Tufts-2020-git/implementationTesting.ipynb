{
 "cells": [
  {
   "cell_type": "code",
   "execution_count": 1,
   "metadata": {},
   "outputs": [
    {
     "name": "stdout",
     "output_type": "stream",
     "text": [
      "=====================================================================\n",
      "Assignment: Implementation\n",
      "OK, version v1.14.15\n",
      "=====================================================================\n",
      "\n"
     ]
    }
   ],
   "source": [
    "from client.api.notebook import Notebook\n",
    "ok = Notebook('Implementation.ok')"
   ]
  },
  {
   "cell_type": "code",
   "execution_count": 2,
   "metadata": {},
   "outputs": [],
   "source": [
    "# Whitespace testing:\n",
    "\n",
    "# Leading\n",
    "def fooLead():\n",
    "    return(' LeadingSpace')\n",
    "# Trailing \n",
    "def fooTrail():\n",
    "    return ('TrailingSpace ')\n",
    "# Intermittent\n",
    "def fooAll():\n",
    "    return (' Extra  Spaces  ')"
   ]
  },
  {
   "cell_type": "code",
   "execution_count": 3,
   "metadata": {},
   "outputs": [
    {
     "name": "stdout",
     "output_type": "stream",
     "text": [
      "Suite setup: \n",
      "Running tests....\n",
      "\n",
      "---------------------------------------------------------------------\n",
      "Test summary\n",
      "    Passed: 3\n",
      "    Failed: 0\n",
      "[ooooooooook] 100.0% passed\n",
      "\n",
      "---------------------------------------------------------------------\n",
      "\n",
      "Suite teardown: \n"
     ]
    }
   ],
   "source": [
    "_ = ok.grade('q01')"
   ]
  },
  {
   "cell_type": "code",
   "execution_count": 4,
   "metadata": {},
   "outputs": [],
   "source": [
    "# Skip Testing"
   ]
  },
  {
   "cell_type": "code",
   "execution_count": 5,
   "metadata": {},
   "outputs": [
    {
     "name": "stdout",
     "output_type": "stream",
     "text": [
      "Suite setup: \n",
      "Running tests....\n",
      "\n",
      "\n",
      "There are still locked tests! Use the -u option to unlock them\n",
      "---------------------------------------------------------------------\n",
      "Test summary\n",
      "    Locked: 1\n",
      "    Passed: 1\n",
      "    Failed: 0\n",
      "[oooook.....] 50.0% passed\n",
      "\n",
      "---------------------------------------------------------------------\n",
      "\n",
      "Suite teardown: \n"
     ]
    }
   ],
   "source": [
    "# Skipping a suite of 1 case\n",
    "_ = ok.grade('q02')"
   ]
  },
  {
   "cell_type": "code",
   "execution_count": 6,
   "metadata": {},
   "outputs": [],
   "source": [
    "# Skipping the first question, when the second passes\n",
    "\n",
    "def addit(a, b):\n",
    "    return a + b"
   ]
  },
  {
   "cell_type": "code",
   "execution_count": 7,
   "metadata": {},
   "outputs": [],
   "source": [
    "_ = ok.grade('q03')"
   ]
  },
  {
   "cell_type": "code",
   "execution_count": 8,
   "metadata": {},
   "outputs": [],
   "source": [
    "# Ellipsis Testing\n",
    "\n",
    "#Simple string replace\n",
    "def fooWorld():\n",
    "    return(\"Hello world\")\n",
    "\n",
    "#Object location\n",
    "class sample:\n",
    "    def __init__(self, name, grade):\n",
    "        self.name = name\n",
    "        self.grade = grade\n",
    "    \n",
    "    def get_grade():\n",
    "        return grade\n",
    "    \n",
    "    def get_name():\n",
    "        return name"
   ]
  },
  {
   "cell_type": "code",
   "execution_count": 9,
   "metadata": {},
   "outputs": [],
   "source": [
    "obj = sample(\"Jack\", 82)"
   ]
  },
  {
   "cell_type": "code",
   "execution_count": 10,
   "metadata": {},
   "outputs": [
    {
     "name": "stdout",
     "output_type": "stream",
     "text": [
      "Suite setup: \n",
      "Running tests....\n",
      "\n",
      "---------------------------------------------------------------------\n",
      "Test summary\n",
      "    Passed: 2\n",
      "    Failed: 0\n",
      "[ooooooooook] 100.0% passed\n",
      "\n",
      "---------------------------------------------------------------------\n",
      "\n",
      "Suite teardown: \n"
     ]
    }
   ],
   "source": [
    "_ = ok.grade('q04')"
   ]
  },
  {
   "cell_type": "code",
   "execution_count": 11,
   "metadata": {},
   "outputs": [],
   "source": [
    "#Tests for combining flags\n",
    "\n",
    "def combine():\n",
    "    return(\" Hello ... \")"
   ]
  },
  {
   "cell_type": "code",
   "execution_count": 12,
   "metadata": {},
   "outputs": [
    {
     "name": "stdout",
     "output_type": "stream",
     "text": [
      "Suite setup: \n",
      "Running tests....\n",
      "\n",
      "---------------------------------------------------------------------\n",
      "Test summary\n",
      "    Passed: 1\n",
      "    Failed: 0\n",
      "[ooooooooook] 100.0% passed\n",
      "\n",
      "---------------------------------------------------------------------\n",
      "\n",
      "Suite teardown: \n"
     ]
    }
   ],
   "source": [
    "# Whitespace & Ellipsis\n",
    "_ = ok.grade('q05')"
   ]
  },
  {
   "cell_type": "code",
   "execution_count": 20,
   "metadata": {},
   "outputs": [],
   "source": [
    "#Any flag & SKIP\n",
    "_ = ok.grade('q06')"
   ]
  },
  {
   "cell_type": "code",
   "execution_count": null,
   "metadata": {},
   "outputs": [],
   "source": []
  }
 ],
 "metadata": {
  "kernelspec": {
   "display_name": "Python 3",
   "language": "python",
   "name": "python3"
  },
  "language_info": {
   "codemirror_mode": {
    "name": "ipython",
    "version": 3
   },
   "file_extension": ".py",
   "mimetype": "text/x-python",
   "name": "python",
   "nbconvert_exporter": "python",
   "pygments_lexer": "ipython3",
   "version": "3.7.1"
  }
 },
 "nbformat": 4,
 "nbformat_minor": 2
}
