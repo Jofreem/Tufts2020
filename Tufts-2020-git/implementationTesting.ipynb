{
 "cells": [
  {
   "cell_type": "code",
   "execution_count": 1,
   "metadata": {},
   "outputs": [
    {
     "name": "stdout",
     "output_type": "stream",
     "text": [
      "=====================================================================\n",
      "Assignment: Implementation\n",
      "OK, version v1.14.15\n",
      "=====================================================================\n",
      "\n"
     ]
    }
   ],
   "source": [
    "from client.api.notebook import Notebook\n",
    "ok = Notebook('Implementation.ok')"
   ]
  },
  {
   "cell_type": "code",
   "execution_count": 2,
   "metadata": {},
   "outputs": [],
   "source": [
    "# Whitespace testing:\n",
    "\n",
    "# Leading\n",
    "def fooLead():\n",
    "    return(' LeadingSpace')\n",
    "# Trailing \n",
    "def fooTrail():\n",
    "    return ('TrailingSpace ')\n",
    "# Intermittent\n",
    "def fooAll():\n",
    "    return (' Extra  Spaces  ')"
   ]
  },
  {
   "cell_type": "code",
   "execution_count": 3,
   "metadata": {},
   "outputs": [
    {
     "name": "stdout",
     "output_type": "stream",
     "text": [
      "Running tests....\n",
      "\n",
      "---------------------------------------------------------------------\n",
      "Question 1 > Suite 1 > Case 1\n",
      "\n",
      ">>> fooLead() #doctest: +NORMALIZE_WHITESPACE\n",
      "' LeadingSpace'\n",
      "-- OK! --\n",
      "---------------------------------------------------------------------\n",
      "Question 1 > Suite 1 > Case 2\n",
      "\n",
      ">>> fooTrail() #doctest: +NORMALIZE_WHITESPACE\n",
      "'TrailingSpace '\n",
      "-- OK! --\n",
      "---------------------------------------------------------------------\n",
      "Question 1 > Suite 1 > Case 3\n",
      "\n",
      ">>> fooAll() #doctest: +NORMALIZE_WHITESPACE\n",
      "' Extra  Spaces  '\n",
      "-- OK! --\n",
      "---------------------------------------------------------------------\n",
      "Test summary\n",
      "    Passed: 3\n",
      "    Failed: 0\n",
      "[ooooooooook] 100.0% passed\n",
      "\n"
     ]
    }
   ],
   "source": [
    "_ = ok.grade('q01')"
   ]
  },
  {
   "cell_type": "code",
   "execution_count": 4,
   "metadata": {},
   "outputs": [],
   "source": [
    "# Skip Testing"
   ]
  },
  {
   "cell_type": "code",
   "execution_count": 5,
   "metadata": {},
   "outputs": [
    {
     "name": "stdout",
     "output_type": "stream",
     "text": [
      "Running tests....\n",
      "\n",
      "---------------------------------------------------------------------\n",
      "Question 2 > Suite 1 > Case 1\n",
      "\n",
      "\n",
      "There are still locked tests! Use the -u option to unlock them\n",
      "---------------------------------------------------------------------\n",
      "Test summary\n",
      "    Locked: 1\n",
      "    Passed: 0\n",
      "    Failed: 0\n",
      "[k..........] 0.0% passed\n",
      "\n"
     ]
    }
   ],
   "source": [
    "# Skipping a suite of 1 case\n",
    "_ = ok.grade('q02')"
   ]
  },
  {
   "cell_type": "code",
   "execution_count": 6,
   "metadata": {},
   "outputs": [],
   "source": [
    "# Skipping the first question, when the second passes\n",
    "\n",
    "def addit(a, b):\n",
    "    return a + b"
   ]
  },
  {
   "cell_type": "code",
   "execution_count": 7,
   "metadata": {},
   "outputs": [
    {
     "name": "stdout",
     "output_type": "stream",
     "text": [
      "Running tests....\n",
      "\n",
      "---------------------------------------------------------------------\n",
      "Question 3 > Suite 1 > Case 1\n",
      "\n",
      "---------------------------------------------------------------------\n",
      "Question 3 > Suite 1 > Case 2\n",
      "\n",
      ">>> addit(2,3)\n",
      "5\n",
      "-- OK! --\n",
      "\n",
      "There are still locked tests! Use the -u option to unlock them\n",
      "---------------------------------------------------------------------\n",
      "Test summary\n",
      "    Locked: 1\n",
      "    Passed: 1\n",
      "    Failed: 0\n",
      "[oooook.....] 50.0% passed\n",
      "\n"
     ]
    }
   ],
   "source": [
    "_ = ok.grade('q03')"
   ]
  },
  {
   "cell_type": "code",
   "execution_count": 8,
   "metadata": {},
   "outputs": [],
   "source": [
    "# Ellipsis Testing\n",
    "\n",
    "#Simple string replace\n",
    "def fooWorld():\n",
    "    return(\"Hello world\")\n",
    "\n",
    "#Object location\n",
    "class sample:\n",
    "    def __init__(self, name, grade):\n",
    "        self.name = name\n",
    "        self.grade = grade\n",
    "    \n",
    "    def get_grade():\n",
    "        return grade\n",
    "    \n",
    "    def get_name():\n",
    "        return name"
   ]
  },
  {
   "cell_type": "code",
   "execution_count": 9,
   "metadata": {},
   "outputs": [],
   "source": [
    "obj = sample(\"Jack\", 82)"
   ]
  },
  {
   "cell_type": "code",
   "execution_count": 10,
   "metadata": {},
   "outputs": [
    {
     "name": "stdout",
     "output_type": "stream",
     "text": [
      "Running tests....\n",
      "\n",
      "---------------------------------------------------------------------\n",
      "Question 4 > Suite 1 > Case 1\n",
      "\n",
      ">>> fooWorld() #doctest: +ELLIPSIS\n",
      "'Hello world'\n",
      "-- OK! --\n",
      "---------------------------------------------------------------------\n",
      "Question 4 > Suite 1 > Case 2\n",
      "\n",
      ">>> str(obj) #doctest: +ELLIPSIS\n",
      "'<__main__.sample object at 0x000001ADD2E7EA90>'\n",
      "-- OK! --\n",
      "---------------------------------------------------------------------\n",
      "Test summary\n",
      "    Passed: 2\n",
      "    Failed: 0\n",
      "[ooooooooook] 100.0% passed\n",
      "\n"
     ]
    }
   ],
   "source": [
    "_ = ok.grade('q04')"
   ]
  },
  {
   "cell_type": "code",
   "execution_count": 11,
   "metadata": {},
   "outputs": [],
   "source": [
    "#Tests for combining flags\n",
    "\n",
    "def combine():\n",
    "    return(\" Hello ... \")"
   ]
  },
  {
   "cell_type": "code",
   "execution_count": 12,
   "metadata": {},
   "outputs": [
    {
     "name": "stdout",
     "output_type": "stream",
     "text": [
      "Running tests....\n",
      "\n",
      "---------------------------------------------------------------------\n",
      "Question 5 > Suite 1 > Case 1\n",
      "\n",
      ">>> combine() #doctest: +ELLIPSIS, +NORMALIZE_WHITESPACE\n",
      "' Hello ... '\n",
      "-- OK! --\n",
      "---------------------------------------------------------------------\n",
      "Test summary\n",
      "    Passed: 1\n",
      "    Failed: 0\n",
      "[ooooooooook] 100.0% passed\n",
      "\n"
     ]
    }
   ],
   "source": [
    "# Whitespace & Ellipsis\n",
    "_ = ok.grade('q05')"
   ]
  },
  {
   "cell_type": "code",
   "execution_count": 13,
   "metadata": {},
   "outputs": [
    {
     "name": "stdout",
     "output_type": "stream",
     "text": [
      "Running tests....\n",
      "\n",
      "---------------------------------------------------------------------\n",
      "Question 6 > Suite 1 > Case 1\n",
      "\n",
      "\n",
      "There are still locked tests! Use the -u option to unlock them\n",
      "---------------------------------------------------------------------\n",
      "Test summary\n",
      "    Locked: 1\n",
      "    Passed: 0\n",
      "    Failed: 0\n",
      "[k..........] 0.0% passed\n",
      "\n"
     ]
    }
   ],
   "source": [
    "#Any flag & SKIP\n",
    "_ = ok.grade('q06')"
   ]
  },
  {
   "cell_type": "code",
   "execution_count": 14,
   "metadata": {},
   "outputs": [
    {
     "name": "stdout",
     "output_type": "stream",
     "text": [
      "Running tests....\n",
      "\n",
      "---------------------------------------------------------------------\n",
      "Question 8 > Suite 1 > Case 1\n",
      "\n",
      ">>> print(df)\n",
      "         0\n",
      "0     Made\n",
      "1       By\n",
      "2     Jack\n",
      "3  Freeman\n",
      "4       in\n",
      "5     2020\n",
      "-- OK! --\n",
      "---------------------------------------------------------------------\n",
      "Test summary\n",
      "    Passed: 1\n",
      "    Failed: 0\n",
      "[ooooooooook] 100.0% passed\n",
      "\n"
     ]
    }
   ],
   "source": [
    "# Testing a basic dataframe\n",
    "import pandas as pd\n",
    "lst = [\"Made\", \"By\", \"Jack\", \"Freeman\",\"in\",\"2020\"]\n",
    "df = pd.DataFrame(lst)\n",
    "_ = ok.grade('q07')"
   ]
  },
  {
   "cell_type": "code",
   "execution_count": 15,
   "metadata": {},
   "outputs": [
    {
     "name": "stdout",
     "output_type": "stream",
     "text": [
      "         0\n",
      "0     Made\n",
      "1       By\n",
      "2     Jack\n",
      "3  Freeman\n",
      "4       in\n",
      "5     2020\n"
     ]
    }
   ],
   "source": [
    "print(pd.DataFrame(lst))"
   ]
  },
  {
   "cell_type": "code",
   "execution_count": null,
   "metadata": {},
   "outputs": [],
   "source": []
  }
 ],
 "metadata": {
  "kernelspec": {
   "display_name": "Python 3",
   "language": "python",
   "name": "python3"
  },
  "language_info": {
   "codemirror_mode": {
    "name": "ipython",
    "version": 3
   },
   "file_extension": ".py",
   "mimetype": "text/x-python",
   "name": "python",
   "nbconvert_exporter": "python",
   "pygments_lexer": "ipython3",
   "version": "3.7.1"
  }
 },
 "nbformat": 4,
 "nbformat_minor": 2
}
